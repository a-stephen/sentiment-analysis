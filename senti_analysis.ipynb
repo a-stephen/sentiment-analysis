{
 "cells": [
  {
   "cell_type": "code",
   "execution_count": 1,
   "id": "8b785350-2fe5-42c7-ab8c-86253ae49877",
   "metadata": {},
   "outputs": [
    {
     "name": "stderr",
     "output_type": "stream",
     "text": [
      "[nltk_data] Downloading package vader_lexicon to C:\\Users\\asus tuf\n",
      "[nltk_data]     gaming\\AppData\\Roaming\\nltk_data...\n",
      "[nltk_data]   Package vader_lexicon is already up-to-date!\n",
      "[nltk_data] Downloading package punkt to C:\\Users\\asus tuf\n",
      "[nltk_data]     gaming\\AppData\\Roaming\\nltk_data...\n",
      "[nltk_data]   Package punkt is already up-to-date!\n",
      "[nltk_data] Downloading package wordnet to C:\\Users\\asus tuf\n",
      "[nltk_data]     gaming\\AppData\\Roaming\\nltk_data...\n",
      "[nltk_data]   Package wordnet is already up-to-date!\n",
      "[nltk_data] Downloading package sentiwordnet to C:\\Users\\asus tuf\n",
      "[nltk_data]     gaming\\AppData\\Roaming\\nltk_data...\n",
      "[nltk_data]   Package sentiwordnet is already up-to-date!\n"
     ]
    }
   ],
   "source": [
    "import sys\n",
    "pip3_path = '.local/lib/python3.5/site-packages'\n",
    "if pip3_path not in sys.path:\n",
    "    sys.path.append(pip3_path)\n",
    "\n",
    "# general\n",
    "import sys\n",
    "import pandas as pd\n",
    "import numpy as np\n",
    "import random\n",
    "import requests\n",
    "import os\n",
    "import matplotlib\n",
    "import matplotlib.pyplot as plt\n",
    "import tarfile\n",
    "from zipfile import ZipFile\n",
    "from time import time\n",
    "from pprint import pprint\n",
    "from glob import glob\n",
    "\n",
    "# sklearn\n",
    "from sklearn.metrics import accuracy_score\n",
    "from sklearn.model_selection import train_test_split\n",
    "from sklearn.feature_extraction.text import TfidfVectorizer, CountVectorizer\n",
    "from sklearn.naive_bayes import MultinomialNB\n",
    "from sklearn.linear_model import LogisticRegression\n",
    "from sklearn.svm import LinearSVC\n",
    "\n",
    "# nltk\n",
    "import nltk\n",
    "from nltk.sentiment.vader import SentimentIntensityAnalyzer\n",
    "from nltk.tokenize import word_tokenize\n",
    "from nltk.corpus import sentiwordnet as swn, wordnet as wn\n",
    "from nltk.stem.lancaster import LancasterStemmer\n",
    "nltk.download('vader_lexicon')\n",
    "nltk.download('punkt')\n",
    "nltk.download('wordnet')\n",
    "nltk.download('sentiwordnet')\n",
    "\n",
    "# other\n",
    "from afinn import Afinn\n",
    "from textblob.en.sentiments import PatternAnalyzer as TextBlobPatternAnalyzer\n",
    "from textblob.en.sentiments import NaiveBayesAnalyzer as TextBlobNaiveBayesAnalyzer"
   ]
  },
  {
   "cell_type": "code",
   "execution_count": 2,
   "id": "3ca95e11-1b48-4a27-8644-c7ea8c421789",
   "metadata": {},
   "outputs": [
    {
     "name": "stdout",
     "output_type": "stream",
     "text": [
      "Long docs already downloaded.\n",
      "Long docs already extracted.\n",
      "Reading long docs...\n",
      "Short docs already downloaded.\n",
      "Downloads complete.\n",
      "Long pos 25000\n",
      "Long neg 25000\n",
      "Short pos 1500\n",
      "Short neg 1500\n"
     ]
    }
   ],
   "source": [
    "def load_long_docs(max_docs_per_label=np.inf):\n",
    "\n",
    "    if not os.path.exists('aclImdb_v1.tar.gz'):\n",
    "       \n",
    "        print('Downloading long docs...')\n",
    "        response = requests.get('http://ai.stanford.edu/~amaas/data/sentiment/aclImdb_v1.tar.gz')\n",
    "\n",
    "        with open('aclImdb_v1.tar.gz', 'wb') as f:  \n",
    "            f.write(response.content)\n",
    "\n",
    "    else:\n",
    "        print('Long docs already downloaded.')\n",
    "        \n",
    "    if not os.path.exists('long_docs'):\n",
    "       \n",
    "        print('Extracting long docs...')\n",
    "        with tarfile.open('aclImdb_v1.tar.gz') as tar:\n",
    "            tar.extractall('long_docs')\n",
    "            tar.close()\n",
    "\n",
    "    else:\n",
    "        print('Long docs already extracted.')\n",
    "\n",
    "\n",
    "    print('Reading long docs...')\n",
    "\n",
    "    pos_sentences, neg_sentences = [], []\n",
    "\n",
    "    count = 0\n",
    "    for path in glob('long_docs/aclImdb/*/neg/*.txt'):\n",
    "        with open(path, 'r', errors = \"replace\") as f:\n",
    "            text = f.read()\n",
    "            neg_sentences.append(text)\n",
    "            count += 1\n",
    "            if count >= max_docs_per_label:\n",
    "                break\n",
    "\n",
    "    count = 0\n",
    "    for path in glob('long_docs/aclImdb/*/pos/*.txt'):\n",
    "        with open(path, 'r', errors = \"replace\") as f:\n",
    "            text = f.read()\n",
    "            pos_sentences.append(text)\n",
    "            count += 1\n",
    "            if count >= max_docs_per_label:\n",
    "                break\n",
    "\n",
    "    return {'pos': pos_sentences, 'neg': neg_sentences}\n",
    "\n",
    "def load_short_docs():\n",
    "\n",
    "    if not os.path.exists('short_docs'):\n",
    "       \n",
    "        print('Downloading short docs...')\n",
    "        response = requests.get('http://archive.ics.uci.edu/ml/machine-learning-databases/00331/sentiment labelled sentences.zip')\n",
    "\n",
    "        with open('short_docs.zip', 'wb') as f:  \n",
    "            f.write(response.content)\n",
    "           \n",
    "        ZipFile('short_docs.zip').extractall('short_docs')\n",
    "        print('Short docs downloaded.')\n",
    "   \n",
    "    else:\n",
    "\n",
    "        print('Short docs already downloaded.')\n",
    "   \n",
    "    pos_sentences, neg_sentences = [], []\n",
    "\n",
    "    # pandas.read_csv failed to process one of the files correctly, hence this manual approach.\n",
    "    for path in glob('short_docs/sentiment labelled sentences/*labelled.txt'):\n",
    "        with open(path, 'r') as f:\n",
    "            pairs = [line.split('\\t') for line in f.readlines()]\n",
    "            for pair in pairs:\n",
    "                if int(pair[1]):\n",
    "                    pos_sentences.append(pair[0])\n",
    "                else:\n",
    "                    neg_sentences.append(pair[0])\n",
    "\n",
    "    return {'pos': pos_sentences, 'neg': neg_sentences}\n",
    "\n",
    "def print_doc_counts(doc_sets):\n",
    "   \n",
    "    for key1 in doc_sets:\n",
    "        for key2 in doc_sets[key1]:\n",
    "            print(key1, key2, len(doc_sets[key1][key2]))\n",
    "            \n",
    "# Next, we'll call our functions to load the long and short corpora. If you have your own corpus readily available, you can add it to the full_doc_sets collection below, and it will automatically be included in the tests that follow.\n",
    "\n",
    "# The long corpus is quite large and takes a long time to train models on. You can choose to load fewer than the 50,000 documents by specifying the optional parameter max_docs_per_label, but you'll also have an option later in the script to train on only a subset of whatever you have downloaded.\n",
    "\n",
    "full_doc_sets = {'Long': load_long_docs(), # (max_docs_per_label=5000) # optionally, limit size for faster loading\n",
    "                 'Short': load_short_docs(),\n",
    "               # 'Your corpus here': {'pos': [...your positive docs...], 'neg': [...your negative docs...]}\n",
    "                }\n",
    "\n",
    "doc_set_names = full_doc_sets.keys()\n",
    "\n",
    "print('Downloads complete.')\n",
    "print_doc_counts(full_doc_sets)"
   ]
  },
  {
   "cell_type": "code",
   "execution_count": 3,
   "id": "842b93e0-6751-4fae-8dc1-86f866ec3253",
   "metadata": {},
   "outputs": [
    {
     "name": "stdout",
     "output_type": "stream",
     "text": [
      "Long docs already downloaded.\n",
      "Long docs already extracted.\n",
      "Reading long docs...\n",
      "Short docs already downloaded.\n",
      "Downloads complete.\n",
      "Long pos 25000\n",
      "Long neg 25000\n",
      "Short pos 1500\n",
      "Short neg 1500\n"
     ]
    }
   ],
   "source": [
    "full_doc_sets = {'Long': load_long_docs(), # (max_docs_per_label=5000) # optionally, limit size for faster loading\n",
    "                 'Short': load_short_docs(),\n",
    "               # 'Your corpus here': {'pos': [...your positive docs...], 'neg': [...your negative docs...]}\n",
    "                }\n",
    "\n",
    "doc_set_names = full_doc_sets.keys()\n",
    "\n",
    "print('Downloads complete.')\n",
    "print_doc_counts(full_doc_sets)"
   ]
  },
  {
   "cell_type": "code",
   "execution_count": 4,
   "id": "20aae798-1d3f-49d8-9c64-f25fd60cd122",
   "metadata": {},
   "outputs": [
    {
     "name": "stdout",
     "output_type": "stream",
     "text": [
      "Train:\n",
      "Long pos 20000\n",
      "Long neg 20000\n",
      "Short pos 1200\n",
      "Short neg 1200\n",
      "Test: \n",
      "Long pos 5000\n",
      "Long neg 5000\n",
      "Short pos 300\n",
      "Short neg 300\n"
     ]
    }
   ],
   "source": [
    "global_results = {}\n",
    "\n",
    "train_doc_sets = {key: {} for key in full_doc_sets}\n",
    "test_doc_sets = {key: {} for key in full_doc_sets}\n",
    "\n",
    "\n",
    "for name in doc_set_names:\n",
    "    for label in ['pos', 'neg']:\n",
    "        train, test = train_test_split(full_doc_sets[name][label], test_size = 0.2)\n",
    "        train_doc_sets[name][label], test_doc_sets[name][label] = train, test\n",
    "        \n",
    "print('Train:')\n",
    "print_doc_counts(train_doc_sets)\n",
    "print('Test: ')\n",
    "print_doc_counts(test_doc_sets)"
   ]
  },
  {
   "cell_type": "code",
   "execution_count": 48,
   "id": "f853c29e-a364-49d5-b2ae-f1b8a7ce12c0",
   "metadata": {},
   "outputs": [],
   "source": [
    "tr = train_doc_sets['Long']\n",
    "tr_pos = tr['pos']"
   ]
  },
  {
   "cell_type": "code",
   "execution_count": 57,
   "id": "41ee2b47-686d-4359-a288-77a392cd6d42",
   "metadata": {},
   "outputs": [
    {
     "data": {
      "text/plain": [
       "list"
      ]
     },
     "execution_count": 57,
     "metadata": {},
     "output_type": "execute_result"
    }
   ],
   "source": [
    "type(tr_pos)"
   ]
  },
  {
   "cell_type": "code",
   "execution_count": 5,
   "id": "d60c3c12-222e-4a1d-8088-067997d2fc39",
   "metadata": {},
   "outputs": [],
   "source": [
    "def geometric_mean_accuracy(truth, preds):\n",
    "    df = pd.DataFrame(data={'truth': truth, 'preds': preds})\n",
    "   \n",
    "    true_pos = sum(df['truth'] & df['preds']) # bitwise and\n",
    "    true_neg = sum(~df['truth'] & ~df['preds']) # bitwise and on (bitwise not)\n",
    "    all_pos = sum(df['truth']) # sums all values of df[\"truth\"]\n",
    "    all_neg = sum(~df['truth']) # sums all values of bitwise not df['truth']\n",
    "   \n",
    "    result = np.sqrt((true_pos / all_pos) * (true_neg / all_neg))\n",
    "    return result\n",
    "\n",
    "\n",
    "def print_results(results=global_results, group=None):\n",
    "\n",
    "    if results is None or len(results) == 0:\n",
    "        return\n",
    "   \n",
    "    df = pd.DataFrame(results).transpose()\n",
    "    if group is not None:\n",
    "        df = df[df['_group'] == group]\n",
    "    df = df.drop('_group', axis=1)\n",
    "    df = df.reset_index()\n",
    "    df = df.set_index(['_doc_set', '_method'])\n",
    "    df = df.rename_axis(('Corpus', 'Method'))\n",
    "    df = df.drop('index', axis=1)\n",
    "    df = df.sort_index()\n",
    "    df = df.astype(float).round(3)\n",
    "    df['Docs/sec'] = df['Docs/sec'].astype(int)\n",
    "    df = df[['Accuracy', 'GM accuracy', 'Docs/sec']]\n",
    "   \n",
    "    display(df)\n",
    "    \n",
    "def build_result(group, method, doc_set_name, start, stop, truth, preds):\n",
    "\n",
    "    key = '{}_{}_{}'.format(method, group, doc_set_name)\n",
    "   \n",
    "    result = {key : {'_group': group,\n",
    "                     '_method': method,\n",
    "                     '_doc_set': doc_set_name,\n",
    "                     'GM accuracy': None if truth is None else geometric_mean_accuracy(truth, preds),\n",
    "                     'Accuracy': None if truth is None else accuracy_score(truth, preds),\n",
    "                     'Docs/sec': None if truth is None else len(truth) / (stop - start),\n",
    "                   # 'Your measurement': ...\n",
    "                    }}\n",
    "   \n",
    "    global_results.update(result)\n",
    "    return result\n",
    "   \n",
    "def run_test(group, method, doc_sets, func, max_records_per_label=np.nan):\n",
    "   \n",
    "    local_results = {}\n",
    "   \n",
    "    for doc_set_name, doc_set in doc_sets.items():\n",
    "       \n",
    "        pos_docs, neg_docs = doc_set['pos'], doc_set['neg']\n",
    "        if len(pos_docs) > max_records_per_label:\n",
    "            pos_docs = random.sample(pos_docs, max_records_per_label)\n",
    "        if len(neg_docs) > max_records_per_label:\n",
    "            neg_docs = random.sample(neg_docs, max_records_per_label)\n",
    "\n",
    "        start = time()\n",
    "        preds = [func(doc) for doc in pos_docs + neg_docs]\n",
    "        stop = time()\n",
    "\n",
    "        truth = [True] * len(pos_docs) + [False] * len(neg_docs)\n",
    "       \n",
    "        result = build_result(group, method, doc_set_name, start, stop, truth, preds)\n",
    "        local_results.update(result)\n",
    "   \n",
    "    print_results(local_results, group=group)\n",
    "    \n",
    "def plot_results(group, var_names=None, title='', round_digits=0, relative=False, lower_limit=None, upper_limit=None):\n",
    "\n",
    "    for doc_set_name in sorted(doc_set_names):\n",
    "\n",
    "        df = pd.DataFrame(global_results).transpose()\n",
    "        df = df[df._doc_set == doc_set_name]\n",
    "        df = df[df._group == group]\n",
    "        if len(df) == 0:\n",
    "            print('No results.')\n",
    "            return\n",
    "       \n",
    "        if var_names is None:\n",
    "            var_names = [x for x in df.columns if not x.startswith('_')]\n",
    "\n",
    "        df = df.sort_index(ascending=False)\n",
    "        methods = df._method.values\n",
    "        df = df[list(reversed(var_names))]\n",
    "        orig_df = df.copy() # the dataframe may get scaled so we need to preserve the original values\n",
    "\n",
    "        lower_limit_, upper_limit_ = lower_limit, upper_limit\n",
    "        if relative:\n",
    "            df = df / df.max()\n",
    "            lower_limit_ = 0\n",
    "            upper_limit_ = 1.1\n",
    "        else:\n",
    "            lower_limit_ = df.values.min() * 0.9 if lower_limit is None else lower_limit\n",
    "            upper_limit_ = df.values.max() * 1.15 if upper_limit is None else upper_limit\n",
    "\n",
    "        positions = np.arange(len(df.columns))\n",
    "        bars_per_bar_group = len(df)\n",
    "        bar_width = 0.8 / bars_per_bar_group\n",
    "        bar_start = -bars_per_bar_group / 2 + 0.5\n",
    "\n",
    "        fig, ax = plt.subplots(figsize = [10, df.size * .3 + .3])\n",
    "        plt.title(\"{} (Group='{}', Corpus='{}')\".format(title, group, doc_set_name), fontsize=14)\n",
    "        bar_pos = bar_start\n",
    "\n",
    "        min_value, max_value = float('inf'), float('-inf')\n",
    "        for i, col in enumerate(df.index.values):\n",
    "            bar = ax.barh(positions + bar_pos * bar_width, df.loc[col, :], bar_width, label=' '+methods[i])\n",
    "            for rect, value in zip(bar, orig_df.loc[col, :]):\n",
    "                if round_digits == 0:\n",
    "                    value = int(value)\n",
    "                else:\n",
    "                    value = round(value, round_digits)\n",
    "                ax.text(rect.get_x() + rect.get_width(), rect.get_y() + rect.get_height() / 2,\n",
    "                        ' ' + str(value), ha='left', va='center', color='black', weight='medium')\n",
    "            bar_pos += 1\n",
    "\n",
    "        ax.set_yticks(range(len(df.columns)))\n",
    "        ax.set_yticklabels(df.columns.values)\n",
    "        ax.set_xlim([lower_limit_, upper_limit_])\n",
    "        if relative:\n",
    "            ax.set_xticks([])\n",
    "            ax.set_xticklabels([])\n",
    "        handles, labels = ax.get_legend_handles_labels()\n",
    "        ax.legend(reversed(handles), reversed(labels), loc='center left', bbox_to_anchor=(1, 0.5))\n",
    "        plt.show()"
   ]
  },
  {
   "cell_type": "code",
   "execution_count": 6,
   "id": "d79a4ac3-1af8-40b0-8129-ede5a2e19f43",
   "metadata": {},
   "outputs": [
    {
     "name": "stdout",
     "output_type": "stream",
     "text": [
      "-4.0\n",
      "4.0\n",
      "0.0\n"
     ]
    }
   ],
   "source": [
    "af = Afinn()\n",
    "\n",
    "print(af.score(\"What a miserable waste of time\"))\n",
    "print(af.score(\"Brilliant!\"))\n",
    "print(af.score(\"Hello World!\"))"
   ]
  },
  {
   "cell_type": "code",
   "execution_count": 7,
   "id": "0784510e-b65a-40e8-a317-d4f5655f7f18",
   "metadata": {},
   "outputs": [
    {
     "name": "stdout",
     "output_type": "stream",
     "text": [
      "-2.0\n",
      "3.0\n"
     ]
    }
   ],
   "source": [
    "print(af.score(\"It was not good.\"))\n",
    "print(af.score(\"In your dreams was it worth the money\"))"
   ]
  },
  {
   "cell_type": "code",
   "execution_count": 8,
   "id": "0e94d68e-547e-4856-9be0-781dd76c9604",
   "metadata": {},
   "outputs": [
    {
     "data": {
      "text/html": [
       "<div>\n",
       "<style scoped>\n",
       "    .dataframe tbody tr th:only-of-type {\n",
       "        vertical-align: middle;\n",
       "    }\n",
       "\n",
       "    .dataframe tbody tr th {\n",
       "        vertical-align: top;\n",
       "    }\n",
       "\n",
       "    .dataframe thead th {\n",
       "        text-align: right;\n",
       "    }\n",
       "</style>\n",
       "<table border=\"1\" class=\"dataframe\">\n",
       "  <thead>\n",
       "    <tr style=\"text-align: right;\">\n",
       "      <th></th>\n",
       "      <th></th>\n",
       "      <th>Accuracy</th>\n",
       "      <th>GM accuracy</th>\n",
       "      <th>Docs/sec</th>\n",
       "    </tr>\n",
       "    <tr>\n",
       "      <th>Corpus</th>\n",
       "      <th>Method</th>\n",
       "      <th></th>\n",
       "      <th></th>\n",
       "      <th></th>\n",
       "    </tr>\n",
       "  </thead>\n",
       "  <tbody>\n",
       "    <tr>\n",
       "      <th>Long</th>\n",
       "      <th>Afinn</th>\n",
       "      <td>0.707</td>\n",
       "      <td>0.696</td>\n",
       "      <td>161</td>\n",
       "    </tr>\n",
       "    <tr>\n",
       "      <th>Short</th>\n",
       "      <th>Afinn</th>\n",
       "      <td>0.780</td>\n",
       "      <td>0.780</td>\n",
       "      <td>3191</td>\n",
       "    </tr>\n",
       "  </tbody>\n",
       "</table>\n",
       "</div>"
      ],
      "text/plain": [
       "               Accuracy  GM accuracy  Docs/sec\n",
       "Corpus Method                                 \n",
       "Long   Afinn      0.707        0.696       161\n",
       "Short  Afinn      0.780        0.780      3191"
      ]
     },
     "metadata": {},
     "output_type": "display_data"
    }
   ],
   "source": [
    "af = Afinn()\n",
    "\n",
    "run_test(\"Out of the box\", 'Afinn', full_doc_sets, lambda x: af.score(x) > 0, max_records_per_label = 2500)"
   ]
  },
  {
   "cell_type": "code",
   "execution_count": 9,
   "id": "38937ba8-592f-4e42-bd3d-d95893da307a",
   "metadata": {},
   "outputs": [
    {
     "name": "stderr",
     "output_type": "stream",
     "text": [
      "[nltk_data] Downloading package omw-1.4 to C:\\Users\\asus tuf\n",
      "[nltk_data]     gaming\\AppData\\Roaming\\nltk_data...\n",
      "[nltk_data]   Package omw-1.4 is already up-to-date!\n"
     ]
    },
    {
     "data": {
      "text/html": [
       "<div>\n",
       "<style scoped>\n",
       "    .dataframe tbody tr th:only-of-type {\n",
       "        vertical-align: middle;\n",
       "    }\n",
       "\n",
       "    .dataframe tbody tr th {\n",
       "        vertical-align: top;\n",
       "    }\n",
       "\n",
       "    .dataframe thead th {\n",
       "        text-align: right;\n",
       "    }\n",
       "</style>\n",
       "<table border=\"1\" class=\"dataframe\">\n",
       "  <thead>\n",
       "    <tr style=\"text-align: right;\">\n",
       "      <th></th>\n",
       "      <th></th>\n",
       "      <th>Accuracy</th>\n",
       "      <th>GM accuracy</th>\n",
       "      <th>Docs/sec</th>\n",
       "    </tr>\n",
       "    <tr>\n",
       "      <th>Corpus</th>\n",
       "      <th>Method</th>\n",
       "      <th></th>\n",
       "      <th></th>\n",
       "      <th></th>\n",
       "    </tr>\n",
       "  </thead>\n",
       "  <tbody>\n",
       "    <tr>\n",
       "      <th>Long</th>\n",
       "      <th>SentiWordNet</th>\n",
       "      <td>0.665</td>\n",
       "      <td>0.654</td>\n",
       "      <td>144</td>\n",
       "    </tr>\n",
       "    <tr>\n",
       "      <th>Short</th>\n",
       "      <th>SentiWordNet</th>\n",
       "      <td>0.674</td>\n",
       "      <td>0.673</td>\n",
       "      <td>2396</td>\n",
       "    </tr>\n",
       "  </tbody>\n",
       "</table>\n",
       "</div>"
      ],
      "text/plain": [
       "                     Accuracy  GM accuracy  Docs/sec\n",
       "Corpus Method                                       \n",
       "Long   SentiWordNet     0.665        0.654       144\n",
       "Short  SentiWordNet     0.674        0.673      2396"
      ]
     },
     "metadata": {},
     "output_type": "display_data"
    }
   ],
   "source": [
    "import nltk\n",
    "nltk.download('omw-1.4')\n",
    "\n",
    "def score_sentiwordnet(doc):\n",
    "   \n",
    "    synsets = (wn.synsets(w) for w in word_tokenize(doc) if w is not None) # tokenize and lookup synonyms in WordNet\n",
    "    words = (s[0].name() for s in synsets if s is not None and len(s) > 0) # use the first (most common) synonym\n",
    "    words = (swn.senti_synset(s) for s in words) # get sentiment scores which have pos, neg, and neutral parts\n",
    "    scores = ((1 - w.obj_score()) * (w.pos_score() - w.neg_score()) for w in words) # compute individual word scores\n",
    "    return (sum(scores) > 0) # classify document as positive if resulting score is positive\n",
    "\n",
    "run_test('Out of the box', 'SentiWordNet', full_doc_sets, lambda x: score_sentiwordnet(x), max_records_per_label=2500)"
   ]
  },
  {
   "cell_type": "code",
   "execution_count": 10,
   "id": "becb7a4f-cd79-4b52-9fe1-6189e7bc4ac9",
   "metadata": {},
   "outputs": [
    {
     "data": {
      "text/html": [
       "<div>\n",
       "<style scoped>\n",
       "    .dataframe tbody tr th:only-of-type {\n",
       "        vertical-align: middle;\n",
       "    }\n",
       "\n",
       "    .dataframe tbody tr th {\n",
       "        vertical-align: top;\n",
       "    }\n",
       "\n",
       "    .dataframe thead th {\n",
       "        text-align: right;\n",
       "    }\n",
       "</style>\n",
       "<table border=\"1\" class=\"dataframe\">\n",
       "  <thead>\n",
       "    <tr style=\"text-align: right;\">\n",
       "      <th></th>\n",
       "      <th></th>\n",
       "      <th>Accuracy</th>\n",
       "      <th>GM accuracy</th>\n",
       "      <th>Docs/sec</th>\n",
       "    </tr>\n",
       "    <tr>\n",
       "      <th>Corpus</th>\n",
       "      <th>Method</th>\n",
       "      <th></th>\n",
       "      <th></th>\n",
       "      <th></th>\n",
       "    </tr>\n",
       "  </thead>\n",
       "  <tbody>\n",
       "    <tr>\n",
       "      <th>Long</th>\n",
       "      <th>TextBlob (Pattern)</th>\n",
       "      <td>0.685</td>\n",
       "      <td>0.634</td>\n",
       "      <td>868</td>\n",
       "    </tr>\n",
       "    <tr>\n",
       "      <th>Short</th>\n",
       "      <th>TextBlob (Pattern)</th>\n",
       "      <td>0.778</td>\n",
       "      <td>0.778</td>\n",
       "      <td>6635</td>\n",
       "    </tr>\n",
       "  </tbody>\n",
       "</table>\n",
       "</div>"
      ],
      "text/plain": [
       "                           Accuracy  GM accuracy  Docs/sec\n",
       "Corpus Method                                             \n",
       "Long   TextBlob (Pattern)     0.685        0.634       868\n",
       "Short  TextBlob (Pattern)     0.778        0.778      6635"
      ]
     },
     "metadata": {},
     "output_type": "display_data"
    }
   ],
   "source": [
    "pa = TextBlobPatternAnalyzer()\n",
    "\n",
    "run_test('Out of the box', 'TextBlob (Pattern)', full_doc_sets, lambda x: pa.analyze(x)[0] > 0, max_records_per_label=2500)"
   ]
  },
  {
   "cell_type": "code",
   "execution_count": 11,
   "id": "732c6b9c-3f32-4a4d-a177-07801e190b31",
   "metadata": {},
   "outputs": [
    {
     "data": {
      "text/html": [
       "<div>\n",
       "<style scoped>\n",
       "    .dataframe tbody tr th:only-of-type {\n",
       "        vertical-align: middle;\n",
       "    }\n",
       "\n",
       "    .dataframe tbody tr th {\n",
       "        vertical-align: top;\n",
       "    }\n",
       "\n",
       "    .dataframe thead th {\n",
       "        text-align: right;\n",
       "    }\n",
       "</style>\n",
       "<table border=\"1\" class=\"dataframe\">\n",
       "  <thead>\n",
       "    <tr style=\"text-align: right;\">\n",
       "      <th></th>\n",
       "      <th></th>\n",
       "      <th>Accuracy</th>\n",
       "      <th>GM accuracy</th>\n",
       "      <th>Docs/sec</th>\n",
       "    </tr>\n",
       "    <tr>\n",
       "      <th>Corpus</th>\n",
       "      <th>Method</th>\n",
       "      <th></th>\n",
       "      <th></th>\n",
       "      <th></th>\n",
       "    </tr>\n",
       "  </thead>\n",
       "  <tbody>\n",
       "    <tr>\n",
       "      <th>Long</th>\n",
       "      <th>VADER</th>\n",
       "      <td>0.697</td>\n",
       "      <td>0.678</td>\n",
       "      <td>517</td>\n",
       "    </tr>\n",
       "    <tr>\n",
       "      <th>Short</th>\n",
       "      <th>VADER</th>\n",
       "      <td>0.811</td>\n",
       "      <td>0.811</td>\n",
       "      <td>8114</td>\n",
       "    </tr>\n",
       "  </tbody>\n",
       "</table>\n",
       "</div>"
      ],
      "text/plain": [
       "               Accuracy  GM accuracy  Docs/sec\n",
       "Corpus Method                                 \n",
       "Long   VADER      0.697        0.678       517\n",
       "Short  VADER      0.811        0.811      8114"
      ]
     },
     "metadata": {},
     "output_type": "display_data"
    }
   ],
   "source": [
    "sia = SentimentIntensityAnalyzer()\n",
    "\n",
    "run_test('Out of the box', 'VADER', full_doc_sets, lambda x: sia.polarity_scores(x)['compound'] > 0, max_records_per_label=2500)"
   ]
  },
  {
   "cell_type": "code",
   "execution_count": 12,
   "id": "f24f4bb2-c939-4f31-beb7-570bf770a822",
   "metadata": {},
   "outputs": [
    {
     "data": {
      "text/html": [
       "<div>\n",
       "<style scoped>\n",
       "    .dataframe tbody tr th:only-of-type {\n",
       "        vertical-align: middle;\n",
       "    }\n",
       "\n",
       "    .dataframe tbody tr th {\n",
       "        vertical-align: top;\n",
       "    }\n",
       "\n",
       "    .dataframe thead th {\n",
       "        text-align: right;\n",
       "    }\n",
       "</style>\n",
       "<table border=\"1\" class=\"dataframe\">\n",
       "  <thead>\n",
       "    <tr style=\"text-align: right;\">\n",
       "      <th></th>\n",
       "      <th></th>\n",
       "      <th>Accuracy</th>\n",
       "      <th>GM accuracy</th>\n",
       "      <th>Docs/sec</th>\n",
       "    </tr>\n",
       "    <tr>\n",
       "      <th>Corpus</th>\n",
       "      <th>Method</th>\n",
       "      <th></th>\n",
       "      <th></th>\n",
       "      <th></th>\n",
       "    </tr>\n",
       "  </thead>\n",
       "  <tbody>\n",
       "    <tr>\n",
       "      <th rowspan=\"4\" valign=\"top\">Long</th>\n",
       "      <th>Afinn</th>\n",
       "      <td>0.707</td>\n",
       "      <td>0.696</td>\n",
       "      <td>161</td>\n",
       "    </tr>\n",
       "    <tr>\n",
       "      <th>SentiWordNet</th>\n",
       "      <td>0.665</td>\n",
       "      <td>0.654</td>\n",
       "      <td>144</td>\n",
       "    </tr>\n",
       "    <tr>\n",
       "      <th>TextBlob (Pattern)</th>\n",
       "      <td>0.685</td>\n",
       "      <td>0.634</td>\n",
       "      <td>868</td>\n",
       "    </tr>\n",
       "    <tr>\n",
       "      <th>VADER</th>\n",
       "      <td>0.697</td>\n",
       "      <td>0.678</td>\n",
       "      <td>517</td>\n",
       "    </tr>\n",
       "    <tr>\n",
       "      <th rowspan=\"4\" valign=\"top\">Short</th>\n",
       "      <th>Afinn</th>\n",
       "      <td>0.780</td>\n",
       "      <td>0.780</td>\n",
       "      <td>3191</td>\n",
       "    </tr>\n",
       "    <tr>\n",
       "      <th>SentiWordNet</th>\n",
       "      <td>0.674</td>\n",
       "      <td>0.673</td>\n",
       "      <td>2396</td>\n",
       "    </tr>\n",
       "    <tr>\n",
       "      <th>TextBlob (Pattern)</th>\n",
       "      <td>0.778</td>\n",
       "      <td>0.778</td>\n",
       "      <td>6635</td>\n",
       "    </tr>\n",
       "    <tr>\n",
       "      <th>VADER</th>\n",
       "      <td>0.811</td>\n",
       "      <td>0.811</td>\n",
       "      <td>8114</td>\n",
       "    </tr>\n",
       "  </tbody>\n",
       "</table>\n",
       "</div>"
      ],
      "text/plain": [
       "                           Accuracy  GM accuracy  Docs/sec\n",
       "Corpus Method                                             \n",
       "Long   Afinn                  0.707        0.696       161\n",
       "       SentiWordNet           0.665        0.654       144\n",
       "       TextBlob (Pattern)     0.685        0.634       868\n",
       "       VADER                  0.697        0.678       517\n",
       "Short  Afinn                  0.780        0.780      3191\n",
       "       SentiWordNet           0.674        0.673      2396\n",
       "       TextBlob (Pattern)     0.778        0.778      6635\n",
       "       VADER                  0.811        0.811      8114"
      ]
     },
     "metadata": {},
     "output_type": "display_data"
    }
   ],
   "source": [
    "print_results()"
   ]
  },
  {
   "cell_type": "code",
   "execution_count": 13,
   "id": "62d389be-d9d4-4fd1-bf47-0b40496a4995",
   "metadata": {},
   "outputs": [
    {
     "data": {
      "image/png": "[encoded data removed]",
      "text/plain": [
       "<Figure size 720x194.4 with 1 Axes>"
      ]
     },
     "metadata": {
      "needs_background": "light"
     },
     "output_type": "display_data"
    },
    {
     "data": {
      "image/png": "[encoded data removed]",
      "text/plain": [
       "<Figure size 720x194.4 with 1 Axes>"
      ]
     },
     "metadata": {
      "needs_background": "light"
     },
     "output_type": "display_data"
    }
   ],
   "source": [
    "plot_results('Out of the box', var_names=['Accuracy', 'GM accuracy'], title='Quality measures', round_digits=2, lower_limit=0.3, upper_limit=1.0)"
   ]
  },
  {
   "cell_type": "code",
   "execution_count": 14,
   "id": "19ebfe32-b519-4fbb-8092-b65dc96126f4",
   "metadata": {},
   "outputs": [
    {
     "data": {
      "image/png": "[encoded data removed]",
      "text/plain": [
       "<Figure size 720x108 with 1 Axes>"
      ]
     },
     "metadata": {
      "needs_background": "light"
     },
     "output_type": "display_data"
    },
    {
     "data": {
      "image/png": "[encoded data removed]",
      "text/plain": [
       "<Figure size 720x108 with 1 Axes>"
      ]
     },
     "metadata": {
      "needs_background": "light"
     },
     "output_type": "display_data"
    }
   ],
   "source": [
    "plot_results('Out of the box', var_names=['Docs/sec'], title='Speed', relative=True, lower_limit=0.3, upper_limit=1.0)"
   ]
  },
  {
   "cell_type": "code",
   "execution_count": 16,
   "id": "54e57410-50c4-47cb-8252-f1a1207713b8",
   "metadata": {},
   "outputs": [
    {
     "name": "stdout",
     "output_type": "stream",
     "text": [
      "['cat' 'dog' 'person' 'the']\n",
      "[[0 1 0 1]\n",
      " [0 0 1 1]\n",
      " [1 0 0 1]]\n"
     ]
    }
   ],
   "source": [
    "# Vectorizers\n",
    "\n",
    "count_vectorizer = CountVectorizer()\n",
    "corpus = [\"The dog\", \"The person\", \"The cat\"]\n",
    "count_vectorizer.fit(corpus)\n",
    "\n",
    "print(count_vectorizer.get_feature_names_out())\n",
    "print(count_vectorizer.transform(corpus).toarray())"
   ]
  },
  {
   "cell_type": "code",
   "execution_count": 17,
   "id": "81d05134-4a3b-4356-8fab-45330787eacf",
   "metadata": {},
   "outputs": [
    {
     "name": "stdout",
     "output_type": "stream",
     "text": [
      "['cat' 'dog' 'person' 'the']\n",
      "[[0 1 0 1]\n",
      " [0 0 1 1]\n",
      " [1 0 0 1]]\n"
     ]
    }
   ],
   "source": [
    "test_set = [\"The one cat\", \"Person Dog Person\"]\n",
    "\n",
    "print(count_vectorizer.get_feature_names_out())\n",
    "print(count_vectorizer.transform(corpus).toarray()) # Word that were not seen in the corpus are ignored"
   ]
  },
  {
   "cell_type": "code",
   "execution_count": 20,
   "id": "d3ab8275-0158-4a65-9905-410213574848",
   "metadata": {},
   "outputs": [
    {
     "name": "stdout",
     "output_type": "stream",
     "text": [
      "['cat', 'dog', 'person', 'the']\n",
      "[[0.    0.861 0.    0.509]\n",
      " [0.    0.    0.861 0.509]\n",
      " [0.861 0.    0.    0.509]]\n"
     ]
    }
   ],
   "source": [
    "# TfidfVectroizer\n",
    "\n",
    "corpus = ['The dog', 'The person', 'The cat']\n",
    "\n",
    "tfidf_vectorizer = TfidfVectorizer()\n",
    "tfidf_vectorizer.fit(corpus) # return a modified TfidfVectorizer object\n",
    "\n",
    "print(tfidf_vectorizer.get_feature_names()) # get name of unique words\n",
    "print(tfidf_vectorizer.transform(corpus).toarray().round(3)) # transforms the each element of the corpus into an array (not into 0 & 1; but value between 0 and 1)\n"
   ]
  },
  {
   "cell_type": "code",
   "execution_count": 21,
   "id": "6e998f49-e862-4005-82d7-972e06c05ff5",
   "metadata": {},
   "outputs": [
    {
     "name": "stdout",
     "output_type": "stream",
     "text": [
      "['cat', 'dog', 'person', 'the']\n",
      "[[0.861 0.    0.    0.509]\n",
      " [0.    0.447 0.894 0.   ]]\n"
     ]
    }
   ],
   "source": [
    "test_set = ['The one cat', 'A person and a dog person']\n",
    "\n",
    "print(tfidf_vectorizer.get_feature_names())\n",
    "print(tfidf_vectorizer.transform(test_set).toarray().round(3))"
   ]
  },
  {
   "cell_type": "code",
   "execution_count": 22,
   "id": "83fb6f4e-8c50-454f-8412-20dec48f4264",
   "metadata": {},
   "outputs": [],
   "source": [
    "tfidf_vectorizer = TfidfVectorizer()\n",
    "\n",
    "X_train = tfidf_vectorizer.fit_transform(train_doc_sets['Short']['pos'] + train_doc_sets['Short']['neg'])"
   ]
  },
  {
   "cell_type": "code",
   "execution_count": 23,
   "id": "526c2fac-7465-4e96-8ca4-1187d042a8e4",
   "metadata": {},
   "outputs": [
    {
     "name": "stdout",
     "output_type": "stream",
     "text": [
      "['yun', 'z500a', 'zero', 'zombie', 'zombiez']\n",
      "[0. 0. 0. 1. 0.]\n"
     ]
    }
   ],
   "source": [
    "print(tfidf_vectorizer.get_feature_names()[-5:]) # returns the last first elements in the feature vector\n",
    "print(tfidf_vectorizer.transform(['zillion zillion zombie']).toarray()[0][-5:].round(3))"
   ]
  },
  {
   "cell_type": "code",
   "execution_count": 29,
   "id": "db5d8868-4266-4b70-b117-b5372992d452",
   "metadata": {},
   "outputs": [
    {
     "name": "stdout",
     "output_type": "stream",
     "text": [
      "4515\n",
      "[0.227 0.974]\n"
     ]
    }
   ],
   "source": [
    "v = tfidf_vectorizer.transform(['the zillion zillion zombie']).toarray()\n",
    "# print(len(v[0]))\n",
    "v = v[v > 0.0]\n",
    "print(v.round(3))"
   ]
  },
  {
   "cell_type": "code",
   "execution_count": 33,
   "id": "38d94e9b-1267-4efa-bfe3-b3658d137952",
   "metadata": {},
   "outputs": [],
   "source": [
    "y_train = [1] * len(train_doc_sets['Short']['pos']) + [0] * len(train_doc_sets['Short']['neg'])"
   ]
  },
  {
   "cell_type": "code",
   "execution_count": 34,
   "id": "db6ca4ff-4bd7-4b95-b67c-e1d20e2a91ab",
   "metadata": {},
   "outputs": [
    {
     "data": {
      "text/plain": [
       "MultinomialNB()"
      ]
     },
     "execution_count": 34,
     "metadata": {},
     "output_type": "execute_result"
    }
   ],
   "source": [
    "model = MultinomialNB()\n",
    "model.fit(X_train, y_train)"
   ]
  },
  {
   "cell_type": "code",
   "execution_count": 35,
   "id": "e85fb09f-9332-478e-a11b-2663603aac44",
   "metadata": {},
   "outputs": [],
   "source": [
    "X_test = tfidf_vectorizer.transform(test_doc_sets['Short']['pos'] + test_doc_sets['Short']['neg'])"
   ]
  },
  {
   "cell_type": "code",
   "execution_count": 36,
   "id": "8d96701d-d6b2-45d5-82bf-52486312be05",
   "metadata": {},
   "outputs": [],
   "source": [
    "y_preds = model.predict(X_test)"
   ]
  },
  {
   "cell_type": "code",
   "execution_count": 37,
   "id": "1b5c7365-017d-4fdc-b443-17be3e1a048b",
   "metadata": {},
   "outputs": [
    {
     "name": "stdout",
     "output_type": "stream",
     "text": [
      "0.822\n"
     ]
    }
   ],
   "source": [
    "y_truth = [1] * len(test_doc_sets['Short']['pos']) + [0] * len(test_doc_sets['Short']['neg'])\n",
    "print(accuracy_score(y_truth, y_preds).round(3))"
   ]
  },
  {
   "cell_type": "code",
   "execution_count": 58,
   "id": "334dcb55-a9f7-41a4-8d48-40444180609f",
   "metadata": {},
   "outputs": [],
   "source": [
    "def flex_train(doc_set_name, vectorizer, model, max_train_docs_per_label):\n",
    "\n",
    "    pos_docs = train_doc_sets[doc_set_name]['pos']\n",
    "    # pos_docs = pos_docs['pos']\n",
    "    neg_docs = train_doc_sets[doc_set_name]['neg']\n",
    "    # pos_docs = neg_docs['pos']\n",
    "\n",
    "    if len(pos_docs) > max_train_docs_per_label: pos_docs = pos_docs[:max_train_docs_per_label]\n",
    "    if len(neg_docs) > max_train_docs_per_label: neg_docs = neg_docs[:max_train_docs_per_label]\n",
    "\n",
    "    X = np.abs(vectorizer.fit_transform(pos_docs + neg_docs))\n",
    "    y = [True] * len(pos_docs) + [False] * len(neg_docs)\n",
    "\n",
    "    model.fit(X, y)\n",
    "\n",
    "def flex_predict(vectorizer, model, docs):\n",
    "\n",
    "    X = np.abs(vectorizer.transform(docs))\n",
    "    preds = model.predict(X)\n",
    "    return preds\n",
    "\n",
    "def flex_test(group, method, doc_set_name, vectorizer, model):\n",
    "\n",
    "    pos_docs = test_doc_sets[doc_set_name]\n",
    "    pos_docs = pos_docs['pos']\n",
    "    neg_docs = test_doc_sets[doc_set_name]\n",
    "    neg_docs = neg_docs['neg']\n",
    "\n",
    "    truth = [True] * len(pos_docs) + [False] * len(neg_docs)\n",
    "\n",
    "    start = time()\n",
    "    preds = flex_predict(vectorizer, model, pos_docs + neg_docs)\n",
    "    stop = time()\n",
    "\n",
    "    return build_result(group, method, doc_set_name, start, stop, truth, preds)\n",
    "\n",
    "def flex_train_and_test(group, method, vectorizer, model, max_train_docs_per_label=np.inf):\n",
    "\n",
    "    local_results = {}\n",
    "\n",
    "    for doc_set_name in doc_set_names:\n",
    "\n",
    "        flex_train(doc_set_name, vectorizer, model, max_train_docs_per_label)\n",
    "        result = flex_test(group, method, doc_set_name, vectorizer, model)\n",
    "        local_results.update(result)\n",
    "        global_results.update(result)\n",
    "\n",
    "    return local_results"
   ]
  },
  {
   "cell_type": "code",
   "execution_count": 59,
   "id": "d6d313f9-d258-4bbd-af40-67cc7720f70c",
   "metadata": {},
   "outputs": [
    {
     "data": {
      "text/html": [
       "<div>\n",
       "<style scoped>\n",
       "    .dataframe tbody tr th:only-of-type {\n",
       "        vertical-align: middle;\n",
       "    }\n",
       "\n",
       "    .dataframe tbody tr th {\n",
       "        vertical-align: top;\n",
       "    }\n",
       "\n",
       "    .dataframe thead th {\n",
       "        text-align: right;\n",
       "    }\n",
       "</style>\n",
       "<table border=\"1\" class=\"dataframe\">\n",
       "  <thead>\n",
       "    <tr style=\"text-align: right;\">\n",
       "      <th></th>\n",
       "      <th></th>\n",
       "      <th>Accuracy</th>\n",
       "      <th>GM accuracy</th>\n",
       "      <th>Docs/sec</th>\n",
       "    </tr>\n",
       "    <tr>\n",
       "      <th>Corpus</th>\n",
       "      <th>Method</th>\n",
       "      <th></th>\n",
       "      <th></th>\n",
       "      <th></th>\n",
       "    </tr>\n",
       "  </thead>\n",
       "  <tbody>\n",
       "    <tr>\n",
       "      <th>Long</th>\n",
       "      <th>TF-IDF + NB</th>\n",
       "      <td>0.822</td>\n",
       "      <td>0.817</td>\n",
       "      <td>7340</td>\n",
       "    </tr>\n",
       "    <tr>\n",
       "      <th>Short</th>\n",
       "      <th>TF-IDF + NB</th>\n",
       "      <td>0.815</td>\n",
       "      <td>0.815</td>\n",
       "      <td>99481</td>\n",
       "    </tr>\n",
       "  </tbody>\n",
       "</table>\n",
       "</div>"
      ],
      "text/plain": [
       "                    Accuracy  GM accuracy  Docs/sec\n",
       "Corpus Method                                      \n",
       "Long   TF-IDF + NB     0.822        0.817      7340\n",
       "Short  TF-IDF + NB     0.815        0.815     99481"
      ]
     },
     "metadata": {},
     "output_type": "display_data"
    }
   ],
   "source": [
    "print_results(flex_train_and_test('Self-trained', 'TF-IDF + NB', TfidfVectorizer(), MultinomialNB(), max_train_docs_per_label=1000))"
   ]
  },
  {
   "cell_type": "code",
   "execution_count": 61,
   "id": "296d9634-c4ec-4fe1-a5e1-68aebb918574",
   "metadata": {},
   "outputs": [],
   "source": [
    "def grid_search(group, max_train_docs_per_label=np.inf):\n",
    "\n",
    "    i = 0\n",
    "    vectorizers = get_vectorizers()\n",
    "    for v_name, v in vectorizers.items():\n",
    "\n",
    "        models = get_models()\n",
    "        for m_name, m in models.items():\n",
    "\n",
    "            method = v_name + ' + ' + m_name\n",
    "            i += 1\n",
    "\n",
    "            print('Processing {} of {}: {} ...'.format(i, len(vectorizers) * len(models), method))\n",
    "            flex_train_and_test(group, method, v, m, max_train_docs_per_label)\n",
    "\n",
    "    print_results(group=group)"
   ]
  },
  {
   "cell_type": "code",
   "execution_count": 62,
   "id": "f71334b3-58ad-4f47-bc0d-81fea49b34c2",
   "metadata": {},
   "outputs": [],
   "source": [
    "def get_vectorizers():\n",
    "   \n",
    "    return {'Count': CountVectorizer(ngram_range=(1, 3)),\n",
    "            'TF-IDF': TfidfVectorizer(ngram_range=(1, 3), sublinear_tf=True),\n",
    "          # 'Your vectorizer': YourVectorizer()\n",
    "           }\n",
    "\n",
    "def get_models():\n",
    "    \n",
    "    return {'NB': MultinomialNB(),\n",
    "            'LogR': LogisticRegression(),\n",
    "            'LinSVM': LinearSVC(),\n",
    "          # 'Your Model': YourModel()  \n",
    "           }"
   ]
  },
  {
   "cell_type": "code",
   "execution_count": 63,
   "id": "8b3f0f9d-ae6c-4765-bfe0-aca091609ccc",
   "metadata": {},
   "outputs": [
    {
     "name": "stdout",
     "output_type": "stream",
     "text": [
      "Processing 1 of 6: Count + NB ...\n",
      "Processing 2 of 6: Count + LogR ...\n"
     ]
    },
    {
     "name": "stderr",
     "output_type": "stream",
     "text": [
      "C:\\Programming\\python3.8.0\\lib\\site-packages\\sklearn\\linear_model\\_logistic.py:814: ConvergenceWarning: lbfgs failed to converge (status=1):\n",
      "STOP: TOTAL NO. of ITERATIONS REACHED LIMIT.\n",
      "\n",
      "Increase the number of iterations (max_iter) or scale the data as shown in:\n",
      "    https://scikit-learn.org/stable/modules/preprocessing.html\n",
      "Please also refer to the documentation for alternative solver options:\n",
      "    https://scikit-learn.org/stable/modules/linear_model.html#logistic-regression\n",
      "  n_iter_i = _check_optimize_result(\n"
     ]
    },
    {
     "name": "stdout",
     "output_type": "stream",
     "text": [
      "Processing 3 of 6: Count + LinSVM ...\n"
     ]
    },
    {
     "name": "stderr",
     "output_type": "stream",
     "text": [
      "C:\\Programming\\python3.8.0\\lib\\site-packages\\sklearn\\svm\\_base.py:1206: ConvergenceWarning: Liblinear failed to converge, increase the number of iterations.\n",
      "  warnings.warn(\n"
     ]
    },
    {
     "name": "stdout",
     "output_type": "stream",
     "text": [
      "Processing 4 of 6: TF-IDF + NB ...\n",
      "Processing 5 of 6: TF-IDF + LogR ...\n",
      "Processing 6 of 6: TF-IDF + LinSVM ...\n"
     ]
    },
    {
     "data": {
      "text/html": [
       "<div>\n",
       "<style scoped>\n",
       "    .dataframe tbody tr th:only-of-type {\n",
       "        vertical-align: middle;\n",
       "    }\n",
       "\n",
       "    .dataframe tbody tr th {\n",
       "        vertical-align: top;\n",
       "    }\n",
       "\n",
       "    .dataframe thead th {\n",
       "        text-align: right;\n",
       "    }\n",
       "</style>\n",
       "<table border=\"1\" class=\"dataframe\">\n",
       "  <thead>\n",
       "    <tr style=\"text-align: right;\">\n",
       "      <th></th>\n",
       "      <th></th>\n",
       "      <th>Accuracy</th>\n",
       "      <th>GM accuracy</th>\n",
       "      <th>Docs/sec</th>\n",
       "    </tr>\n",
       "    <tr>\n",
       "      <th>Corpus</th>\n",
       "      <th>Method</th>\n",
       "      <th></th>\n",
       "      <th></th>\n",
       "      <th></th>\n",
       "    </tr>\n",
       "  </thead>\n",
       "  <tbody>\n",
       "    <tr>\n",
       "      <th rowspan=\"6\" valign=\"top\">Long</th>\n",
       "      <th>Count + LinSVM</th>\n",
       "      <td>0.866</td>\n",
       "      <td>0.865</td>\n",
       "      <td>1909</td>\n",
       "    </tr>\n",
       "    <tr>\n",
       "      <th>Count + LogR</th>\n",
       "      <td>0.863</td>\n",
       "      <td>0.863</td>\n",
       "      <td>1973</td>\n",
       "    </tr>\n",
       "    <tr>\n",
       "      <th>Count + NB</th>\n",
       "      <td>0.868</td>\n",
       "      <td>0.868</td>\n",
       "      <td>1935</td>\n",
       "    </tr>\n",
       "    <tr>\n",
       "      <th>TF-IDF + LinSVM</th>\n",
       "      <td>0.884</td>\n",
       "      <td>0.884</td>\n",
       "      <td>1720</td>\n",
       "    </tr>\n",
       "    <tr>\n",
       "      <th>TF-IDF + LogR</th>\n",
       "      <td>0.866</td>\n",
       "      <td>0.866</td>\n",
       "      <td>1734</td>\n",
       "    </tr>\n",
       "    <tr>\n",
       "      <th>TF-IDF + NB</th>\n",
       "      <td>0.870</td>\n",
       "      <td>0.869</td>\n",
       "      <td>1696</td>\n",
       "    </tr>\n",
       "    <tr>\n",
       "      <th rowspan=\"6\" valign=\"top\">Short</th>\n",
       "      <th>Count + LinSVM</th>\n",
       "      <td>0.830</td>\n",
       "      <td>0.830</td>\n",
       "      <td>38314</td>\n",
       "    </tr>\n",
       "    <tr>\n",
       "      <th>Count + LogR</th>\n",
       "      <td>0.818</td>\n",
       "      <td>0.818</td>\n",
       "      <td>38395</td>\n",
       "    </tr>\n",
       "    <tr>\n",
       "      <th>Count + NB</th>\n",
       "      <td>0.842</td>\n",
       "      <td>0.842</td>\n",
       "      <td>38309</td>\n",
       "    </tr>\n",
       "    <tr>\n",
       "      <th>TF-IDF + LinSVM</th>\n",
       "      <td>0.830</td>\n",
       "      <td>0.830</td>\n",
       "      <td>38432</td>\n",
       "    </tr>\n",
       "    <tr>\n",
       "      <th>TF-IDF + LogR</th>\n",
       "      <td>0.803</td>\n",
       "      <td>0.803</td>\n",
       "      <td>38400</td>\n",
       "    </tr>\n",
       "    <tr>\n",
       "      <th>TF-IDF + NB</th>\n",
       "      <td>0.833</td>\n",
       "      <td>0.833</td>\n",
       "      <td>38411</td>\n",
       "    </tr>\n",
       "  </tbody>\n",
       "</table>\n",
       "</div>"
      ],
      "text/plain": [
       "                        Accuracy  GM accuracy  Docs/sec\n",
       "Corpus Method                                          \n",
       "Long   Count + LinSVM      0.866        0.865      1909\n",
       "       Count + LogR        0.863        0.863      1973\n",
       "       Count + NB          0.868        0.868      1935\n",
       "       TF-IDF + LinSVM     0.884        0.884      1720\n",
       "       TF-IDF + LogR       0.866        0.866      1734\n",
       "       TF-IDF + NB         0.870        0.869      1696\n",
       "Short  Count + LinSVM      0.830        0.830     38314\n",
       "       Count + LogR        0.818        0.818     38395\n",
       "       Count + NB          0.842        0.842     38309\n",
       "       TF-IDF + LinSVM     0.830        0.830     38432\n",
       "       TF-IDF + LogR       0.803        0.803     38400\n",
       "       TF-IDF + NB         0.833        0.833     38411"
      ]
     },
     "metadata": {},
     "output_type": "display_data"
    }
   ],
   "source": [
    "grid_search('Self-trained', max_train_docs_per_label=2500)"
   ]
  },
  {
   "cell_type": "code",
   "execution_count": 64,
   "id": "3d5903b7-95c0-4155-b194-12f53b65f058",
   "metadata": {},
   "outputs": [
    {
     "data": {
      "image/png": "[encoded data removed]",
      "text/plain": [
       "<Figure size 720x280.8 with 1 Axes>"
      ]
     },
     "metadata": {
      "needs_background": "light"
     },
     "output_type": "display_data"
    },
    {
     "data": {
      "image/png": "[encoded data removed]",
      "text/plain": [
       "<Figure size 720x280.8 with 1 Axes>"
      ]
     },
     "metadata": {
      "needs_background": "light"
     },
     "output_type": "display_data"
    }
   ],
   "source": [
    "plot_results(group='Self-trained', var_names=['Accuracy', 'GM accuracy'], title='Quality measures', round_digits=2, lower_limit=0.3, upper_limit=1.0)"
   ]
  },
  {
   "cell_type": "code",
   "execution_count": 65,
   "id": "4f712060-5977-4c85-ad67-9fb3b46c9065",
   "metadata": {},
   "outputs": [
    {
     "data": {
      "image/png": "[encoded data removed]",
      "text/plain": [
       "<Figure size 720x151.2 with 1 Axes>"
      ]
     },
     "metadata": {
      "needs_background": "light"
     },
     "output_type": "display_data"
    },
    {
     "data": {
      "image/png": "[encoded data removed]",
      "text/plain": [
       "<Figure size 720x151.2 with 1 Axes>"
      ]
     },
     "metadata": {
      "needs_background": "light"
     },
     "output_type": "display_data"
    }
   ],
   "source": [
    "plot_results(group='Self-trained', var_names=['Docs/sec'], title='Speed', relative=True)"
   ]
  },
  {
   "cell_type": "code",
   "execution_count": null,
   "id": "a675d5f1-ad17-4f4f-b703-66a84fd2ac93",
   "metadata": {},
   "outputs": [],
   "source": []
  }
 ],
 "metadata": {
  "kernelspec": {
   "display_name": "Python 3 (ipykernel)",
   "language": "python",
   "name": "python3"
  },
  "language_info": {
   "codemirror_mode": {
    "name": "ipython",
    "version": 3
   },
   "file_extension": ".py",
   "mimetype": "text/x-python",
   "name": "python",
   "nbconvert_exporter": "python",
   "pygments_lexer": "ipython3",
   "version": "3.8.0"
  }
 },
 "nbformat": 4,
 "nbformat_minor": 5
}
